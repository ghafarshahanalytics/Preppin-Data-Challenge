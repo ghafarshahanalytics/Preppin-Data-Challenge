{
 "cells": [
  {
   "cell_type": "markdown",
   "id": "creative-block",
   "metadata": {},
   "source": [
    "# Preppin' Data Challenge -\n",
    "## 2023: Week 32 - HR Month - Reshaping Generations\n",
    "## Created by: Ghafar Shah\n",
    "\n",
    "### Challenge: https://preppindata.blogspot.com/2023/08/2023-week-32-hr-month-reshaping.html\n",
    "\n",
    "Now that all of the missing IDs have been filled in from Week 31 exercise, HR would like us to add several age groupings to the dataset for reporting, so the employee’s exact date of birth can be removed from the dataset. Pew definitions was used each generation."
   ]
  },
  {
   "cell_type": "markdown",
   "id": "dependent-narrow",
   "metadata": {},
   "source": [
    "### Import required packages for data analysis"
   ]
  },
  {
   "cell_type": "code",
   "execution_count": null,
   "id": "physical-summary",
   "metadata": {},
   "outputs": [],
   "source": [
    "import pandas as pd\n",
    "import numpy as np"
   ]
  },
  {
   "cell_type": "markdown",
   "id": "intimate-small",
   "metadata": {},
   "source": [
    "### Import generations table based on Pew definitions"
   ]
  },
  {
   "cell_type": "code",
   "execution_count": null,
   "id": "attached-million",
   "metadata": {},
   "outputs": [],
   "source": [
    "# read in generations info\n",
    "generations = pd.read_csv('generations.csv')\n",
    "\n",
    "# preview dataframe\n",
    "generations"
   ]
  },
  {
   "cell_type": "markdown",
   "id": "modified-turner",
   "metadata": {},
   "source": [
    "### Convert start_year and end_year columns in generations table to whole numbers"
   ]
  },
  {
   "cell_type": "code",
   "execution_count": null,
   "id": "lesser-detail",
   "metadata": {},
   "outputs": [],
   "source": [
    "# Replace any NaNs with zeros so the conversion to numeric works \n",
    "generations['start_year'] = generations['start_year'].fillna(0).astype(int)\n",
    "generations['end_year'] = generations['end_year'].fillna(0).astype(int)\n",
    "\n",
    "#preview dataframe\n",
    "generations"
   ]
  },
  {
   "cell_type": "markdown",
   "id": "excited-belle",
   "metadata": {},
   "source": [
    "### Import the ee_monthly file (ee_monthly)"
   ]
  },
  {
   "cell_type": "code",
   "execution_count": null,
   "id": "binding-president",
   "metadata": {},
   "outputs": [],
   "source": [
    "ee_monthly_roster = pd.read_csv('Final_Monthly_EE_Roster.csv')\n",
    "ee_monthly_roster"
   ]
  },
  {
   "cell_type": "markdown",
   "id": "automotive-sarah",
   "metadata": {},
   "source": [
    "### Import the employee demographics file (ee_dim)"
   ]
  },
  {
   "cell_type": "code",
   "execution_count": null,
   "id": "severe-notebook",
   "metadata": {},
   "outputs": [],
   "source": [
    "ee_dim = pd.read_csv('Final_Employee_Dimensions_Roster.csv')\n",
    "ee_dim"
   ]
  },
  {
   "cell_type": "markdown",
   "id": "operational-qatar",
   "metadata": {},
   "source": [
    "### Add a new column, generation_name, which includes the generation name (e.g., Generation X (1965-1980))\n",
    "- If the generation doesn’t have a start year, the text should be “(born in or before End Year)”\n",
    "- If the generation doesn’t have an end year, the text should be “(born in or after Start Year)”"
   ]
  },
  {
   "cell_type": "code",
   "execution_count": null,
   "id": "spatial-nickname",
   "metadata": {},
   "outputs": [],
   "source": [
    "\"\"\"\n",
    "\n",
    "Using .apply() to iterate over each row of the DataFrame and apply the lambda function to it\n",
    "And, the lambda function takes a single argument, called \"row\", which is a record from the DataFrame\n",
    "    \n",
    "\"\"\"\n",
    "\n",
    " # Check if there are any values equal to 0 in the 'start_year' column of the 'generations' DataFrame.\n",
    "if (generations['start_year'] == 0).any():\n",
    "    \n",
    "    generations['generations'] = generations.apply(lambda row: \n",
    "    'born in or before ' + str(row['end_year']) if row['start_year'] == 0 else \n",
    "    str(row['generation']) + ' (' + str(row['start_year']) + '-' + str(row['end_year']) + ')', axis=1)\n",
    "\n",
    " # Check if there are any values equal to 0 in the 'end_year' column of the 'generations' DataFrame.\n",
    "if (generations['end_year'] == 0).any():\n",
    "    \n",
    "    generations.loc[generations['end_year'].isna(), 'generations'] = generations.apply(lambda row: \n",
    "    'born in or after ' + str(row['start_year']) if row['end_year'] == 0 else \n",
    "    str(row['generation']) + ' (' + str(row['start_year']) + '-' + str(row['end_year']) + ')', axis=1)"
   ]
  },
  {
   "cell_type": "code",
   "execution_count": null,
   "id": "prescription-feature",
   "metadata": {},
   "outputs": [],
   "source": [
    "# Preview updated generations DataFrame\n",
    "generations.head()"
   ]
  },
  {
   "cell_type": "markdown",
   "id": "magnetic-official",
   "metadata": {},
   "source": [
    "### Calculate the employee’s birth year from the date_of_birth"
   ]
  },
  {
   "cell_type": "code",
   "execution_count": null,
   "id": "geological-completion",
   "metadata": {},
   "outputs": [],
   "source": [
    "# Preserve the year after last slash \"/\"\n",
    "ee_dim = ee_dim.assign(Years=ee_dim.date_of_birth.str[-4:])\n",
    "\n",
    "# Create a Birth_Year numeric column and convert to whole number (remove decimal)\n",
    "ee_dim['Birth_Year'] = pd.to_numeric(ee_dim['Years'], errors='coerce').fillna(0).astype(int)\n",
    "\n",
    "ee_dim"
   ]
  },
  {
   "cell_type": "markdown",
   "id": "automatic-element",
   "metadata": {},
   "source": [
    "### Check how many Birth Years have value of 0 \n",
    "Remember, we originally changed the NaN (isna) to replace it with zero instead due to whole number conversion"
   ]
  },
  {
   "cell_type": "code",
   "execution_count": null,
   "id": "sensitive-receipt",
   "metadata": {},
   "outputs": [],
   "source": [
    "# Checks number of 0s in birth year column from ee_dim table\n",
    "num_zeros = (ee_dim['Birth_Year'] == 0).sum()\n",
    "num_zeros"
   ]
  },
  {
   "cell_type": "code",
   "execution_count": null,
   "id": "tamil-terrorist",
   "metadata": {},
   "outputs": [],
   "source": [
    "# Check ee_dim table data types\n",
    "ee_dim.dtypes"
   ]
  },
  {
   "cell_type": "code",
   "execution_count": null,
   "id": "prerequisite-fitting",
   "metadata": {},
   "outputs": [],
   "source": [
    "# Check generations table data types\n",
    "generations.dtypes"
   ]
  },
  {
   "cell_type": "markdown",
   "id": "infrared-badge",
   "metadata": {},
   "source": [
    "###  Finds the generation label based on Birth_Year in employee demographics table"
   ]
  },
  {
   "cell_type": "code",
   "execution_count": null,
   "id": "representative-cinema",
   "metadata": {},
   "outputs": [],
   "source": [
    "# The find_generation function finds the generation label based on Birth_Year\n",
    "def find_generation(birth_year):\n",
    "    \n",
    "    # Iterating through each row\n",
    "    for index, row in generations.iterrows():\n",
    "        \n",
    "        # Check if the birth year falls within the start_year and end_year range\n",
    "        if row['start_year'] <= birth_year <= row['end_year']:\n",
    "            \n",
    "            # If it does, then lets return the corresponding generation name\n",
    "            return row['generations']\n",
    "    \n",
    "    # If no matching generation name is found, then return Not Provided\n",
    "    return 'Not Provided'"
   ]
  },
  {
   "cell_type": "code",
   "execution_count": null,
   "id": "adapted-november",
   "metadata": {},
   "outputs": [],
   "source": [
    "# Apply the find_generation function to each row in ee_dim DataFrame\n",
    "ee_dim['generation_name'] = ee_dim['Birth_Year'].apply(find_generation)\n",
    "\n",
    "# Preview updated ee_dim DataFrame\n",
    "ee_dim"
   ]
  },
  {
   "cell_type": "code",
   "execution_count": null,
   "id": "bulgarian-example",
   "metadata": {},
   "outputs": [],
   "source": [
    "# Check the ee_dim table record count\n",
    "ee_dim.count()"
   ]
  },
  {
   "cell_type": "markdown",
   "id": "greek-keeping",
   "metadata": {},
   "source": [
    "### Join the monthly roster to the employee demographics data (ee_dim) on employee_id"
   ]
  },
  {
   "cell_type": "code",
   "execution_count": null,
   "id": "distinguished-student",
   "metadata": {},
   "outputs": [],
   "source": [
    "# Join monthly employee table to ee_dim table on column employee_id\n",
    "monthly_ee_df = ee_monthly_roster.merge(ee_dim , on='employee_id',how='left')"
   ]
  },
  {
   "cell_type": "code",
   "execution_count": null,
   "id": "educational-ready",
   "metadata": {},
   "outputs": [],
   "source": [
    "# Preview monthly_ee_df dataframe\n",
    "monthly_ee_df"
   ]
  },
  {
   "cell_type": "code",
   "execution_count": null,
   "id": "matched-arizona",
   "metadata": {},
   "outputs": [],
   "source": [
    "# Check datatype in monthly_ee_df dataframe\n",
    "monthly_ee_df.dtypes"
   ]
  },
  {
   "cell_type": "markdown",
   "id": "muslim-thought",
   "metadata": {},
   "source": [
    "### Format the dates so that we can use it later to calculate an employee’s age (in full years)\n",
    "We need to formate the dates in the monthly_ee_df dataframe to date datatype"
   ]
  },
  {
   "cell_type": "code",
   "execution_count": null,
   "id": "tested-effort",
   "metadata": {},
   "outputs": [],
   "source": [
    "# Convert the date_string column to datetime format\n",
    "monthly_ee_df['Date_Of_Birth'] = pd.to_datetime(monthly_ee_df['date_of_birth'], format='%d/%m/%Y')\n",
    "monthly_ee_df['Month_End_Date'] = pd.to_datetime(monthly_ee_df['month_end_date'], format='%d/%m/%Y')"
   ]
  },
  {
   "cell_type": "code",
   "execution_count": null,
   "id": "studied-culture",
   "metadata": {},
   "outputs": [],
   "source": [
    "#Preview the table\n",
    "monthly_ee_df"
   ]
  },
  {
   "cell_type": "markdown",
   "id": "controversial-stocks",
   "metadata": {},
   "source": [
    "### Calculate the employee’s age (in full years) as of the month_end_date\n",
    "Now, we're calculating the employee's age (in full years) after converting the dates format to date datatype"
   ]
  },
  {
   "cell_type": "code",
   "execution_count": null,
   "id": "crazy-yellow",
   "metadata": {},
   "outputs": [],
   "source": [
    "# Calculate full year age based on month_end_date\n",
    "age_in_years = ((monthly_ee_df['Month_End_Date'] - monthly_ee_df['Date_Of_Birth']).dt.days / 365)\n",
    "monthly_ee_df['age'] = age_in_years.fillna(0).astype(int)"
   ]
  },
  {
   "cell_type": "code",
   "execution_count": null,
   "id": "written-roberts",
   "metadata": {},
   "outputs": [],
   "source": [
    "# Preview DataFrame\n",
    "monthly_ee_df"
   ]
  },
  {
   "cell_type": "markdown",
   "id": "balanced-trigger",
   "metadata": {},
   "source": [
    "### Calculate the employee’s age range, in 5-year increments, and name that column age_range\n",
    "\n",
    "### Criteria: \n",
    "- Employees under 20 should be grouped into “Under 20 years”\n",
    "- Employees between 20 and 69 should be grouped into 5-year increments (“20-24 years”, “25-29 years”, etc.)\n",
    "- Employees 70 and over should be grouped into “70+ years”\n",
    "- If the employee’s birth date is missing, the age_range should be “Not provided\""
   ]
  },
  {
   "cell_type": "code",
   "execution_count": null,
   "id": "opposite-insured",
   "metadata": {},
   "outputs": [],
   "source": [
    "# First, we'll setup the age increments and labels\n",
    "age_increments = [20, 25, 30, 35, 40, 45, 50, 55, 60, 65]\n",
    "age_labels = ['20-24 years', '25-29 years', '30-34 years', '35-39 years', \n",
    "              '40-44 years', '45-49 years', '50-54 years', '55-59 years', '60-64 years', '65-69 years']"
   ]
  },
  {
   "cell_type": "code",
   "execution_count": null,
   "id": "affiliated-handy",
   "metadata": {},
   "outputs": [],
   "source": [
    "\"\"\"\n",
    "\n",
    "    This function will be used to generate the age range for each employee:\n",
    "\n",
    "    NOTES: \n",
    "    Specific age groups are handled first before the for loop is reached.\n",
    "    The elif statement for ages less than 20 and greater than or equal to 70 \n",
    "    will take precedence over the for loop below, so the for loop will only be executed \n",
    "    for ages that are greater than or equal to 20 and less than 70.\n",
    "\n",
    "\"\"\"\n",
    "\n",
    "def assign_age_group(row):\n",
    "    \n",
    "    if pd.isnull(row['age']):\n",
    "        return 'Not Provided'\n",
    "    \n",
    "    elif row['age'] < 20:\n",
    "        return 'Under 20 years'\n",
    "    \n",
    "    elif row['age'] >= 70:\n",
    "        return '70+ years'\n",
    "\n",
    "    # Here, when the age is less than the current age increment, \n",
    "    # it will return the corresponding age group the employee belongs to\n",
    "    for age_increment, age_label in zip(age_increments, age_labels):\n",
    "        if row['age'] < age_increment:\n",
    "            return age_label"
   ]
  },
  {
   "cell_type": "code",
   "execution_count": null,
   "id": "local-cooper",
   "metadata": {},
   "outputs": [],
   "source": [
    "# Apply the function to create a new column 'age_range'\n",
    "monthly_ee_df['age_range'] = monthly_ee_df.apply(assign_age_group, axis=1)"
   ]
  },
  {
   "cell_type": "code",
   "execution_count": null,
   "id": "fundamental-uruguay",
   "metadata": {},
   "outputs": [],
   "source": [
    "# Preview monthly ee_df results\n",
    "monthly_ee_df"
   ]
  },
  {
   "cell_type": "markdown",
   "id": "noble-bracket",
   "metadata": {},
   "source": [
    "### Clean up the DataFrames"
   ]
  },
  {
   "cell_type": "code",
   "execution_count": null,
   "id": "logical-fiction",
   "metadata": {},
   "outputs": [],
   "source": [
    "# rename original employee_id_x back to employee_id in the main table\n",
    "monthly_ee_df.rename(columns = {'guid_x':'guid'}, inplace = True)\n",
    "monthly_ee_df.rename(columns = {'leave_date_x':'leave_date'}, inplace = True)\n",
    "monthly_ee_df.rename(columns = {'hire_date_x':'hire_date'}, inplace = True)"
   ]
  },
  {
   "cell_type": "code",
   "execution_count": null,
   "id": "developed-symbol",
   "metadata": {},
   "outputs": [],
   "source": [
    "# Select specific fields from monthly roster\n",
    "ee_monthly_v3 = monthly_ee_df[['employee_id', 'age_range', 'guid', 'dc_nbr', 'month_end_date', 'hire_date', 'leave_date']]\n",
    "\n",
    "# Preview the final employee monthly roster dataframe\n",
    "ee_monthly_v3.head()"
   ]
  },
  {
   "cell_type": "code",
   "execution_count": null,
   "id": "effective-ghost",
   "metadata": {},
   "outputs": [],
   "source": [
    "# Select specific fields from employee demographics table\n",
    "ee_dim_v3 = ee_dim[['employee_id', 'guid' ,'first_name', 'last_name', 'generation_name', 'nationality', 'gender', 'email', 'hire_date', 'leave_date']]\n",
    "\n",
    "# Preview the final employee demographics dataframe\n",
    "ee_dim_v3.head()"
   ]
  },
  {
   "cell_type": "markdown",
   "id": "median-receptor",
   "metadata": {},
   "source": [
    "### Export dataframes to CSV\n",
    "Uncomment code to export the data"
   ]
  },
  {
   "cell_type": "code",
   "execution_count": null,
   "id": "recreational-committee",
   "metadata": {},
   "outputs": [],
   "source": [
    "# Export final dataframes to CSV\n",
    "\n",
    "#ee_monthly_v3.to_csv('ee_monthly_v3.csv')\n",
    "#ee_dim_v3.to_csv('ee_dim_v3.csv')"
   ]
  },
  {
   "cell_type": "markdown",
   "id": "worldwide-paper",
   "metadata": {},
   "source": [
    "# Practicing Data Viz"
   ]
  },
  {
   "cell_type": "code",
   "execution_count": null,
   "id": "general-causing",
   "metadata": {},
   "outputs": [],
   "source": [
    "import matplotlib.pyplot as plt"
   ]
  },
  {
   "cell_type": "code",
   "execution_count": null,
   "id": "automated-indicator",
   "metadata": {},
   "outputs": [],
   "source": [
    "# Select specific fields from monthly roster\n",
    "ee_monthly_v4 = monthly_ee_df[['employee_id', 'age_range', 'month_end_date']]\n",
    "\n",
    "# Preview the dataframe\n",
    "ee_monthly_v4.head()"
   ]
  },
  {
   "cell_type": "code",
   "execution_count": null,
   "id": "introductory-denver",
   "metadata": {},
   "outputs": [],
   "source": [
    "# Preserve the year after last slash \"/\"\n",
    "ee_monthly_v4 = ee_monthly_v4.assign(Years=ee_monthly_v4.month_end_date.str[-4:])\n",
    "\n",
    "# Create a Birth_Year numeric column and convert to whole number (remove decimal)\n",
    "ee_monthly_v4['Year'] = pd.to_numeric(ee_monthly_v4['Years'], errors='coerce').fillna(0).astype(int)\n",
    "\n",
    "ee_monthly_v4"
   ]
  },
  {
   "cell_type": "code",
   "execution_count": null,
   "id": "first-oakland",
   "metadata": {},
   "outputs": [],
   "source": [
    "# Drop redundant Years column\n",
    "ee_monthly_v4 = ee_monthly_v4.drop(columns=['Years'])\n",
    "ee_monthly_v4"
   ]
  },
  {
   "cell_type": "code",
   "execution_count": null,
   "id": "general-solid",
   "metadata": {},
   "outputs": [],
   "source": [
    "# removes duplicates based on all columns\n",
    "dataviz_monthly = ee_monthly_v4.drop_duplicates(subset=['employee_id'])\n",
    "dataviz_monthly"
   ]
  },
  {
   "cell_type": "markdown",
   "id": "respective-diana",
   "metadata": {},
   "source": [
    "### Setup the data and chart layout to buld the visualization\n",
    "Filtered to only four age ranges for plotting"
   ]
  },
  {
   "cell_type": "code",
   "execution_count": null,
   "id": "dressed-paradise",
   "metadata": {},
   "outputs": [],
   "source": [
    "# Lets first filter the age_range labels for specific age ranges\n",
    "filter_age_ranges = ['Under 20 years', '20-24 years', '25-29 years', '30-34 years']\n",
    "df_filtered = dataviz_monthly[dataviz_monthly['age_range'].isin(filter_age_ranges)]\n",
    "\n",
    "# Next, we will group the filtered data by year and age range fields\n",
    "custom_group = df_filtered.groupby(['Year', 'age_range']).size().unstack()\n",
    "\n",
    "# Now, we can setup a line chart figure\n",
    "fig, ax = plt.subplots(figsize=(10, 5))\n",
    "\n",
    "for age_range in custom_group.columns:\n",
    "    ax.plot(custom_group.index, custom_group[age_range], label=age_range, marker='o')\n",
    "\n",
    "# Add labels and title\n",
    "ax.set_xlabel('Year')\n",
    "ax.set_ylabel('Number of Employees')\n",
    "ax.set_title('Number of Employees by Age Range Over Years')\n",
    "\n",
    "# Move the legend outside to the right\n",
    "ax.legend(loc='upper left', bbox_to_anchor=(1, 1))\n",
    "\n",
    "plt.tight_layout()\n",
    "\n",
    "# Export the plot to an image file\n",
    "plt.savefig('age_range_line_chart.png', transparent =True)\n",
    "\n",
    "plt.show()"
   ]
  }
 ],
 "metadata": {
  "kernelspec": {
   "display_name": "Python 3",
   "language": "python",
   "name": "python3"
  },
  "language_info": {
   "codemirror_mode": {
    "name": "ipython",
    "version": 3
   },
   "file_extension": ".py",
   "mimetype": "text/x-python",
   "name": "python",
   "nbconvert_exporter": "python",
   "pygments_lexer": "ipython3",
   "version": "3.7.2"
  }
 },
 "nbformat": 4,
 "nbformat_minor": 5
}

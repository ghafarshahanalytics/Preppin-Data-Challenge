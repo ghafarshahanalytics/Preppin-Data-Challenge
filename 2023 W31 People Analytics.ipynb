{
 "cells": [
  {
   "cell_type": "markdown",
   "id": "signed-diabetes",
   "metadata": {},
   "source": [
    "# Preppin' Data Challenge -\n",
    "## 2023: Week 31 - HR Month - Filling in Missing IDs\n",
    "\n",
    "## Created by: Ghafar Shah\n",
    "\n",
    "In this challenge, we have two HR tables: one that contains the list of employees (with their name, DOB, etc.), and one that contains a monthly snapshot of which employees worked at each DC during the month.\n",
    "\n",
    "We want to be able to join the two tables, but sometimes the employee_id is missing from one (or both!) of the tables. We do have a second ID (the guid), but sometimes that is missing as well! Fortunately, we have at least one of those IDs present for each record. \n",
    "\n",
    "The goal for this challenge is to fill in the missing IDs in both tables, so they can be joined later."
   ]
  },
  {
   "cell_type": "markdown",
   "id": "cognitive-synthetic",
   "metadata": {},
   "source": [
    "### Import pandas for data preparation and analysis"
   ]
  },
  {
   "cell_type": "code",
   "execution_count": null,
   "id": "considered-haven",
   "metadata": {},
   "outputs": [],
   "source": [
    "import pandas as pd\n",
    "#pd.options.mode.chained_assignment = None  # default='warn"
   ]
  },
  {
   "cell_type": "markdown",
   "id": "composite-nylon",
   "metadata": {},
   "source": [
    "### Read in both employee files \n",
    "- ee_dim: list of employees (with their name, DOB, etc.)\n",
    "- monthly_ee: monthly snapshot of which employees worked at each DC during the month"
   ]
  },
  {
   "cell_type": "code",
   "execution_count": null,
   "id": "legislative-hammer",
   "metadata": {},
   "outputs": [],
   "source": [
    "# read in list of employees with demographics info\n",
    "ee_dim = pd.read_csv('ee_dim_input.csv')\n",
    "\n",
    "# preview dataframe\n",
    "ee_dim"
   ]
  },
  {
   "cell_type": "code",
   "execution_count": null,
   "id": "quiet-crisis",
   "metadata": {},
   "outputs": [],
   "source": [
    "# read in monthly snapshot of employees\n",
    "monthly_ee = pd.read_csv('ee_monthly_input.csv')\n",
    "\n",
    "# preview dataframe\n",
    "monthly_ee"
   ]
  },
  {
   "cell_type": "markdown",
   "id": "phantom-association",
   "metadata": {},
   "source": [
    "### First, we're going to create a lookup key table with employee_id and guid fields from both files:\n",
    "\n",
    "- Find the unique employee_id / guid combinations in each table\n",
    "- Union the results together and remove any duplicates\n",
    "- Filter out any rows where one of the IDs is missing"
   ]
  },
  {
   "cell_type": "code",
   "execution_count": null,
   "id": "efficient-marina",
   "metadata": {},
   "outputs": [],
   "source": [
    "# filter employee dimension file to just employee_id and guid fields\n",
    "ee_dim_ids = ee_dim[[\"employee_id\", \"guid\"]]\n",
    "\n",
    "# preview dataframe / results\n",
    "ee_dim_ids"
   ]
  },
  {
   "cell_type": "code",
   "execution_count": null,
   "id": "otherwise-medication",
   "metadata": {},
   "outputs": [],
   "source": [
    "# filter monthly employee file to just employee_id and guid fields\n",
    "monthly_ee_ids = monthly_ee[[\"employee_id\", \"guid\"]]\n",
    "\n",
    "# preview dataframe / results\n",
    "monthly_ee_ids"
   ]
  },
  {
   "cell_type": "markdown",
   "id": "arranged-dining",
   "metadata": {},
   "source": [
    "### Place the updated dataframes with Employee_ID and GUID fields into a frame"
   ]
  },
  {
   "cell_type": "code",
   "execution_count": null,
   "id": "optional-pierre",
   "metadata": {},
   "outputs": [],
   "source": [
    "# store the updated dataframes into a variable named frames\n",
    "frames = [monthly_ee_ids, ee_dim_ids]"
   ]
  },
  {
   "cell_type": "markdown",
   "id": "outstanding-magnitude",
   "metadata": {},
   "source": [
    "### Stack the dataframes to get a complete list"
   ]
  },
  {
   "cell_type": "code",
   "execution_count": null,
   "id": "micro-attachment",
   "metadata": {},
   "outputs": [],
   "source": [
    "# combine the two dataframes together using concat\n",
    "key_table = pd.concat(frames)\n",
    "key_table"
   ]
  },
  {
   "cell_type": "markdown",
   "id": "flush-huntington",
   "metadata": {},
   "source": [
    "### Filter out any rows where one of the IDs is missing"
   ]
  },
  {
   "cell_type": "code",
   "execution_count": null,
   "id": "local-disney",
   "metadata": {},
   "outputs": [],
   "source": [
    "# remove duplicates based on all columns in key table\n",
    "key_table_de_duped = key_table.drop_duplicates()\n",
    "key_table_de_duped"
   ]
  },
  {
   "cell_type": "markdown",
   "id": "activated-marketplace",
   "metadata": {},
   "source": [
    "### De-dupe the key table"
   ]
  },
  {
   "cell_type": "code",
   "execution_count": null,
   "id": "yellow-holiday",
   "metadata": {},
   "outputs": [],
   "source": [
    "# Using DataFrame.dropna() method drop all rows that have NAN/none.\n",
    "key_table_clean=key_table_de_duped.dropna()\n",
    "key_table_clean"
   ]
  },
  {
   "cell_type": "markdown",
   "id": "sweet-gossip",
   "metadata": {},
   "source": [
    "### Check for any NaNs in employee_id and guid fields"
   ]
  },
  {
   "cell_type": "code",
   "execution_count": null,
   "id": "departmental-defeat",
   "metadata": {},
   "outputs": [],
   "source": [
    "# check total NaN values in column 'employee_id'\n",
    "print(key_table_clean['employee_id'].isnull().sum())\n",
    "print(key_table_clean['guid'].isnull().sum())"
   ]
  },
  {
   "cell_type": "markdown",
   "id": "posted-norman",
   "metadata": {},
   "source": [
    "### Now, we will join the main table with the lookup table on employee_id (make sure to keep all records from the original table, whether or not they match)\n",
    "\n",
    "Let's first start with the ee_dim table (employee dimensions)"
   ]
  },
  {
   "cell_type": "markdown",
   "id": "listed-corruption",
   "metadata": {},
   "source": [
    "### Use merge in pandas to join the Employee Dimensions (ee_dim) table to the key table"
   ]
  },
  {
   "cell_type": "code",
   "execution_count": null,
   "id": "anticipated-machinery",
   "metadata": {},
   "outputs": [],
   "source": [
    "# join employee dimension table to key table on the column employee_id\n",
    "ee_dim_df = ee_dim.merge(key_table_clean, on='employee_id',how='left')\n",
    "\n",
    "# preview dataframe / results\n",
    "ee_dim_df"
   ]
  },
  {
   "cell_type": "markdown",
   "id": "acquired-modem",
   "metadata": {},
   "source": [
    "### If guid is missing from the main table, then replace it with the guid from the lookup key table"
   ]
  },
  {
   "cell_type": "code",
   "execution_count": null,
   "id": "pacific-pollution",
   "metadata": {},
   "outputs": [],
   "source": [
    "# replace NaN in guid column from main table with guid value in key table\n",
    "ee_dim_df.guid_x.fillna(ee_dim_df.guid_y, inplace=True)\n",
    "\n",
    "# drop the duplicate guid column from key table\n",
    "del ee_dim_df['guid_y']\n",
    "\n",
    "# rename the guid column in main table back\n",
    "ee_dim_df.rename(columns = {'guid_x':'guid'}, inplace = True)"
   ]
  },
  {
   "cell_type": "code",
   "execution_count": null,
   "id": "convinced-worth",
   "metadata": {},
   "outputs": [],
   "source": [
    "# preview employee dimension dataframe\n",
    "ee_dim_df"
   ]
  },
  {
   "cell_type": "markdown",
   "id": "secret-colors",
   "metadata": {},
   "source": [
    "### Next, we will join the updated dataframe above to the lookup table again but this time on guid. If the employee_id is missing from the main table, replace it with the employee_id value from the lookup table"
   ]
  },
  {
   "cell_type": "code",
   "execution_count": null,
   "id": "several-middle",
   "metadata": {},
   "outputs": [],
   "source": [
    "# join employee dimension table to key table on the column guid\n",
    "ee_dim_df2 = ee_dim_df.merge(key_table_clean, on='guid',how='left')\n",
    "\n",
    "# preview dataframe / results\n",
    "ee_dim_df2"
   ]
  },
  {
   "cell_type": "code",
   "execution_count": null,
   "id": "unlikely-region",
   "metadata": {},
   "outputs": [],
   "source": [
    "# replace NaN in employee_id column from main table with employee_id value in key table\n",
    "ee_dim_df2.employee_id_x.fillna(ee_dim_df2.employee_id_y, inplace=True)\n",
    "\n",
    "# drop the duplicate employee_id column from key table\n",
    "del ee_dim_df2['employee_id_y']\n",
    "\n",
    "# rename the employee_id_x column in main table back to employee_id\n",
    "ee_dim_df2.rename(columns = {'employee_id_x':'employee_id'}, inplace = True)"
   ]
  },
  {
   "cell_type": "code",
   "execution_count": null,
   "id": "weekly-factor",
   "metadata": {},
   "outputs": [],
   "source": [
    "# preview updated dataframe / results\n",
    "ee_dim_df2"
   ]
  },
  {
   "cell_type": "markdown",
   "id": "attended-local",
   "metadata": {},
   "source": [
    "### Finally, we will check for any duplicate rows and if there are any duplicate GUIDs / Employee IDs"
   ]
  },
  {
   "cell_type": "code",
   "execution_count": null,
   "id": "contemporary-cyprus",
   "metadata": {},
   "outputs": [],
   "source": [
    "# checks for duplicate rows\n",
    "duplicate_ee_dim_df2 = ee_dim_df2[ee_dim_df2.duplicated()]\n",
    " \n",
    "print(\"Duplicate Rows :\")\n",
    " \n",
    "# Print the resultant Dataframe\n",
    "duplicate_ee_dim_df2"
   ]
  },
  {
   "cell_type": "code",
   "execution_count": null,
   "id": "sonic-metadata",
   "metadata": {},
   "outputs": [],
   "source": [
    "# checks for any duplicate employee_ids\n",
    "ee_id_duplicate_check = ee_dim_df2.duplicated(subset=['employee_id']).any()\n",
    "\n",
    "# checks for any duplicate guids\n",
    "guid_duplicate_check = ee_dim_df2.duplicated(subset=['guid']).any()\n",
    "\n",
    "# returns boolean true / false - we're expecting false which means there are no duplicates in either columns\n",
    "ee_id_duplicate_check\n",
    "guid_duplicate_check"
   ]
  },
  {
   "cell_type": "markdown",
   "id": "deluxe-penetration",
   "metadata": {},
   "source": [
    "### Repeat the same steps above but this time for Monthly Employee Roster (monthly_ee)\n",
    "- Note: we do not need to do any duplicate checks here as an employee can appear more than once in a monthly snapshot report"
   ]
  },
  {
   "cell_type": "code",
   "execution_count": null,
   "id": "published-confidentiality",
   "metadata": {},
   "outputs": [],
   "source": [
    "# join monthly employee table to key table on column employee_id\n",
    "monthly_ee_df = monthly_ee.merge(key_table_clean, on='employee_id',how='left')\n",
    "\n",
    "# preview dataframe\n",
    "monthly_ee_df"
   ]
  },
  {
   "cell_type": "code",
   "execution_count": null,
   "id": "honey-salem",
   "metadata": {},
   "outputs": [],
   "source": [
    "# fill in NaN with guid value from key table\n",
    "monthly_ee_df.guid_x.fillna(monthly_ee_df.guid_y, inplace=True)\n",
    "\n",
    "# drop the duplicate guid column from key table\n",
    "del monthly_ee_df['guid_y']\n",
    "\n",
    "# rename original guid_x back to guid on main table\n",
    "monthly_ee_df.rename(columns = {'guid_x':'guid'}, inplace = True)\n",
    "\n",
    "# preview dataframe / results\n",
    "monthly_ee_df"
   ]
  },
  {
   "cell_type": "code",
   "execution_count": null,
   "id": "preceding-fourth",
   "metadata": {},
   "outputs": [],
   "source": [
    "# join updated monthly employee table to key table on the column guid\n",
    "monthly_ee_df2 = monthly_ee_df.merge(key_table_clean, on='guid',how='left')\n",
    "monthly_ee_df2"
   ]
  },
  {
   "cell_type": "code",
   "execution_count": null,
   "id": "generous-importance",
   "metadata": {},
   "outputs": [],
   "source": [
    "# fill in NaN with employee_id value from key table\n",
    "monthly_ee_df2.employee_id_x.fillna(monthly_ee_df2.employee_id_y, inplace=True)\n",
    "\n",
    "# drop the duplicate employee_id column from key table\n",
    "del monthly_ee_df2['employee_id_y']\n",
    "\n",
    "# rename original employee_id_x back to employee_id in the main table\n",
    "monthly_ee_df2.rename(columns = {'employee_id_x':'employee_id'}, inplace = True)\n",
    "\n",
    "# preview updated dataframe / results\n",
    "monthly_ee_df2"
   ]
  },
  {
   "cell_type": "markdown",
   "id": "cathedral-austria",
   "metadata": {},
   "source": [
    "### Exporting the DataFrames into a CSV file\n",
    "Uncomment code to export the data as CSV"
   ]
  },
  {
   "cell_type": "code",
   "execution_count": null,
   "id": "atlantic-replica",
   "metadata": {},
   "outputs": [],
   "source": [
    "# monthly_ee_df2.to_csv('Final_Monthly_EE_Roster.csv')\n",
    "# ee_dim_df2.to_csv('Final_Employee_Dimensions_Roster.csv')"
   ]
  },
  {
   "cell_type": "markdown",
   "id": "greek-meditation",
   "metadata": {},
   "source": [
    "-----------------------------------------------------------------\n",
    "\n",
    "\n",
    "# Exploring seaborn for statistical visualization\n",
    "\n",
    "\n",
    "-----------------------------------------------------------------"
   ]
  },
  {
   "cell_type": "code",
   "execution_count": null,
   "id": "engaging-cement",
   "metadata": {},
   "outputs": [],
   "source": [
    "import seaborn as sns\n",
    "import matplotlib.pyplot as plt\n",
    "import numpy as np"
   ]
  },
  {
   "cell_type": "code",
   "execution_count": null,
   "id": "registered-politics",
   "metadata": {},
   "outputs": [],
   "source": [
    "# join updated monthly employee table to updated dimensions on the column employee_id\n",
    "monthly_ee_df3 = monthly_ee_df2.merge(ee_dim_df2, on='employee_id',how='left')\n",
    "monthly_ee_df3"
   ]
  },
  {
   "cell_type": "code",
   "execution_count": null,
   "id": "animated-thermal",
   "metadata": {},
   "outputs": [],
   "source": [
    "# keep specific colums for data viz\n",
    "monthly_ee_df4 = monthly_ee_df3[[\"employee_id\", \"hire_date_y\", \"gender\"]]\n",
    "monthly_ee_df4"
   ]
  },
  {
   "cell_type": "code",
   "execution_count": null,
   "id": "animated-techno",
   "metadata": {},
   "outputs": [],
   "source": [
    "# keep the year after last backslash\n",
    "monthly_ee_df4 = monthly_ee_df4.assign(Years=monthly_ee_df4.hire_date_y.str[-4:])\n",
    "\n",
    "monthly_ee_df4['Years'] = pd.to_numeric(monthly_ee_df4['Years'], errors='coerce')"
   ]
  },
  {
   "cell_type": "code",
   "execution_count": null,
   "id": "closing-posting",
   "metadata": {},
   "outputs": [],
   "source": [
    "monthly_ee_df4"
   ]
  },
  {
   "cell_type": "code",
   "execution_count": null,
   "id": "suburban-elimination",
   "metadata": {},
   "outputs": [],
   "source": [
    "# check datatypes\n",
    "monthly_ee_df4.dtypes"
   ]
  },
  {
   "cell_type": "code",
   "execution_count": null,
   "id": "standard-staff",
   "metadata": {},
   "outputs": [],
   "source": [
    "# delete hire_date_y column\n",
    "del monthly_ee_df4['hire_date_y']\n",
    "\n",
    "# preview dataframe / results\n",
    "monthly_ee_df4"
   ]
  },
  {
   "cell_type": "code",
   "execution_count": null,
   "id": "sufficient-syntax",
   "metadata": {},
   "outputs": [],
   "source": [
    "# removes duplicates based on all columns\n",
    "dataviz_monthly_ee = monthly_ee_df4.drop_duplicates(subset=['employee_id', 'gender', 'Years'])"
   ]
  },
  {
   "cell_type": "code",
   "execution_count": null,
   "id": "differential-gravity",
   "metadata": {},
   "outputs": [],
   "source": [
    "# preview dataframe\n",
    "dataviz_monthly_ee"
   ]
  },
  {
   "cell_type": "markdown",
   "id": "infinite-bleeding",
   "metadata": {},
   "source": [
    "### Add labels to bar chart\n",
    "Note: The data labels source code came from # sources from https://www.statology.org/seaborn-barplot-show-values/"
   ]
  },
  {
   "cell_type": "code",
   "execution_count": null,
   "id": "abroad-session",
   "metadata": {},
   "outputs": [],
   "source": [
    "# source: https://www.statology.org/seaborn-barplot-show-values/\n",
    "\n",
    "def show_values(axs, orient=\"v\", space=.01):\n",
    "    def _single(ax):\n",
    "        if orient == \"v\":\n",
    "            for p in ax.patches:\n",
    "                _x = p.get_x() + p.get_width() / 2\n",
    "                _y = p.get_y() + p.get_height() + (p.get_height()*0.01)\n",
    "                value = '{:.0f}'.format(p.get_height())\n",
    "                ax.text(_x, _y, value, ha=\"center\") \n",
    "        elif orient == \"h\":\n",
    "            for p in ax.patches:\n",
    "                _x = p.get_x() + p.get_width() + float(space)\n",
    "                _y = p.get_y() + p.get_height() - (p.get_height()*0.5)\n",
    "                value = '{:.1f}'.format(p.get_width())\n",
    "                ax.text(_x, _y, value, ha=\"left\")\n",
    "\n",
    "    if isinstance(axs, np.ndarray):\n",
    "        for idx, ax in np.ndenumerate(axs):\n",
    "            _single(ax)\n",
    "    else:\n",
    "        _single(axs)"
   ]
  },
  {
   "cell_type": "markdown",
   "id": "precious-senator",
   "metadata": {},
   "source": [
    "### Barplot shows number of employees hired by year"
   ]
  },
  {
   "cell_type": "code",
   "execution_count": null,
   "id": "finite-guidance",
   "metadata": {},
   "outputs": [],
   "source": [
    "#create vertical barplot\n",
    "p = sns.countplot(x=dataviz_monthly_ee[\"Years\"], color='blue')\n",
    "p.set(xlabel='Hire Date', ylabel='Number of Employees')\n",
    "p.set_title('Number of Employees Hired By Year')\n",
    "\n",
    "#show values on barplot\n",
    "show_values(p)\n",
    "\n",
    "# export / save barplot as image\n",
    "p.figure.savefig('bar_plot.png', transparent = True)"
   ]
  },
  {
   "cell_type": "markdown",
   "id": "looking-lyric",
   "metadata": {},
   "source": [
    "### Stacked barplot shows employees hired by gender by year"
   ]
  },
  {
   "cell_type": "code",
   "execution_count": null,
   "id": "greater-timber",
   "metadata": {},
   "outputs": [],
   "source": [
    "p = sns.histplot(\n",
    "    data=dataviz_monthly_ee,\n",
    "    x=\"Years\", hue=\"gender\",\n",
    "    multiple=\"fill\", stat=\"count\",\n",
    "    discrete=True, shrink=.9\n",
    ").set(title='Visualizing Gender Diversity in Yearly Hires')\n",
    "\n",
    "plt.xlabel(\"Hire Date\")\n",
    "plt.ylabel(\"Proportion\")\n",
    "\n",
    "# Export the plot to an image file\n",
    "plt.savefig('histogram_plot.png', transparent =True)\n",
    "\n",
    "plt.show()"
   ]
  },
  {
   "cell_type": "markdown",
   "id": "fixed-bottom",
   "metadata": {},
   "source": [
    "### Export dataviz_monthly_ee file to CSV\n",
    "Uncomment to export data to CSV"
   ]
  },
  {
   "cell_type": "code",
   "execution_count": null,
   "id": "detailed-problem",
   "metadata": {},
   "outputs": [],
   "source": [
    "# dataviz_monthly_ee.to_csv('dataviz_monthly_ee_file.csv')"
   ]
  }
 ],
 "metadata": {
  "kernelspec": {
   "display_name": "Python 3",
   "language": "python",
   "name": "python3"
  },
  "language_info": {
   "codemirror_mode": {
    "name": "ipython",
    "version": 3
   },
   "file_extension": ".py",
   "mimetype": "text/x-python",
   "name": "python",
   "nbconvert_exporter": "python",
   "pygments_lexer": "ipython3",
   "version": "3.7.2"
  }
 },
 "nbformat": 4,
 "nbformat_minor": 5
}

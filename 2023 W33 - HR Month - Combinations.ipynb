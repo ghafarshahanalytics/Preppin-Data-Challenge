{
 "cells": [
  {
   "cell_type": "markdown",
   "id": "moved-bradford",
   "metadata": {},
   "source": [
    "# Preppin' Data Challenge -\n",
    "## 2023: Week 33 - HR Month - Combinations\n",
    "## Created by: Ghafar Shah\n",
    "\n",
    "- Challenge: https://preppindata.blogspot.com/2023/08/2023-week-33-hr-month-combinations.html\n",
    "\n",
    "### About: \n",
    "The HR analyst used the data from last week to build a dashboard. The DC managers found it very useful, and they requested some new features. First, we need to add the employee’s tenure (how many months and years they have worked at that particular DC) to the dataset. \n",
    "\n",
    "Second, the HR analyst would like to keep the reports consistent from DC to DC, so they requested an aggregated dataset that fills in zeroes if a DC does not have any employees in a specific demographic group each month. For example, DC #1 did not have any employees in the 60-64 years age group for the month of February 2019, so we need to add a row for that combination, with 0 employees."
   ]
  },
  {
   "cell_type": "code",
   "execution_count": null,
   "id": "regulated-standing",
   "metadata": {},
   "outputs": [],
   "source": [
    "# import libraries\n",
    "import pandas as pd\n",
    "import numpy as np"
   ]
  },
  {
   "cell_type": "code",
   "execution_count": null,
   "id": "normal-shell",
   "metadata": {},
   "outputs": [],
   "source": [
    "# read in generations info\n",
    "ee_monthly_v3 = pd.read_csv('ee_monthly_v3.csv')\n",
    "\n",
    "# preview dataframe\n",
    "ee_monthly_v3"
   ]
  },
  {
   "cell_type": "code",
   "execution_count": null,
   "id": "arabic-seventh",
   "metadata": {},
   "outputs": [],
   "source": [
    "# read in demographics table\n",
    "ee_dim_v3 = pd.read_csv('ee_dim_v3.csv')\n",
    "\n",
    "# preview dataframe\n",
    "ee_dim_v3"
   ]
  },
  {
   "cell_type": "markdown",
   "id": "stock-spelling",
   "metadata": {},
   "source": [
    "## Using the monthly table, calculate each employee’s tenure\n",
    "\n",
    "For the tenure_months, we want to know the number of full months between the employee's hire_date and either the month_end_date or leave_date - whichever is soonest"
   ]
  },
  {
   "cell_type": "code",
   "execution_count": null,
   "id": "legal-korean",
   "metadata": {},
   "outputs": [],
   "source": [
    "# Convert the date_string column to datetime format\n",
    "ee_monthly_v3['Leave_Date'] = pd.to_datetime(ee_monthly_v3['leave_date'], format='%d/%m/%Y')\n",
    "ee_monthly_v3['Month_End_Date'] = pd.to_datetime(ee_monthly_v3['month_end_date'], format='%d/%m/%Y')\n",
    "ee_monthly_v3['Hire_Date'] = pd.to_datetime(ee_monthly_v3['hire_date'], format='%d/%m/%Y')"
   ]
  },
  {
   "cell_type": "code",
   "execution_count": null,
   "id": "prerequisite-cartoon",
   "metadata": {},
   "outputs": [],
   "source": [
    "# preview dataframe\n",
    "ee_monthly_v3"
   ]
  },
  {
   "cell_type": "code",
   "execution_count": null,
   "id": "smaller-liability",
   "metadata": {},
   "outputs": [],
   "source": [
    "# Drop redundant colums, hire date, leave date, month end date\n",
    "ee_monthly_v3 = ee_monthly_v3.drop(columns=['hire_date', 'leave_date', 'month_end_date'])\n",
    "ee_monthly_v3"
   ]
  },
  {
   "cell_type": "code",
   "execution_count": null,
   "id": "maritime-watson",
   "metadata": {},
   "outputs": [],
   "source": [
    "# Create a new column for the soonest date between Month_End_Date and Leave_Date\n",
    "ee_monthly_v3['Soonest_Date_Month_End_or_Leave'] = ee_monthly_v3[['Month_End_Date', 'Leave_Date']].min(axis=1)"
   ]
  },
  {
   "cell_type": "code",
   "execution_count": null,
   "id": "annoying-spell",
   "metadata": {},
   "outputs": [],
   "source": [
    "# preview dataframe\n",
    "ee_monthly_v3"
   ]
  },
  {
   "cell_type": "markdown",
   "id": "offshore-smile",
   "metadata": {},
   "source": [
    "### Calculate Tenure Months"
   ]
  },
  {
   "cell_type": "code",
   "execution_count": null,
   "id": "imposed-storm",
   "metadata": {},
   "outputs": [],
   "source": [
    "# subtrats hire date from the soonest month_end_date or leave _date\n",
    "ee_monthly_v3['Tenure_Months'] = ((ee_monthly_v3.Soonest_Date_Month_End_or_Leave - ee_monthly_v3.Hire_Date)/ np.timedelta64(1, 'M'))"
   ]
  },
  {
   "cell_type": "code",
   "execution_count": null,
   "id": "accurate-surprise",
   "metadata": {},
   "outputs": [],
   "source": [
    "# convert tenure months column to int\n",
    "ee_monthly_v3['Tenure_Months'] = ee_monthly_v3['Tenure_Months'].astype(int)"
   ]
  },
  {
   "cell_type": "code",
   "execution_count": null,
   "id": "dated-costume",
   "metadata": {},
   "outputs": [],
   "source": [
    "# preview dataframe\n",
    "ee_monthly_v3"
   ]
  },
  {
   "cell_type": "markdown",
   "id": "musical-imaging",
   "metadata": {},
   "source": [
    "### Calculate Tenure Years"
   ]
  },
  {
   "cell_type": "code",
   "execution_count": null,
   "id": "subject-moral",
   "metadata": {},
   "outputs": [],
   "source": [
    "# Calculate the number of full years from Full_Months\n",
    "ee_monthly_v3['Tenure_Years'] = ee_monthly_v3['Tenure_Months'] // 12"
   ]
  },
  {
   "cell_type": "code",
   "execution_count": null,
   "id": "irish-scout",
   "metadata": {},
   "outputs": [],
   "source": [
    "# preview dataframe\n",
    "ee_monthly_v3"
   ]
  },
  {
   "cell_type": "markdown",
   "id": "visible-october",
   "metadata": {},
   "source": [
    "### Join the ee_dim table to the monthly data on employee_id to get the employee attributes"
   ]
  },
  {
   "cell_type": "code",
   "execution_count": null,
   "id": "solved-minimum",
   "metadata": {},
   "outputs": [],
   "source": [
    "# Join monthly employee table to ee_dim table on column employee_id\n",
    "monthly_ee_dim_df = ee_monthly_v3.merge(ee_dim_v3 , on='employee_id',how='left')"
   ]
  },
  {
   "cell_type": "code",
   "execution_count": null,
   "id": "dying-middle",
   "metadata": {},
   "outputs": [],
   "source": [
    "# preview dataframe\n",
    "monthly_ee_dim_df"
   ]
  },
  {
   "cell_type": "markdown",
   "id": "accompanied-record",
   "metadata": {},
   "source": [
    "### Create a summary record for each DC/month/demographic:\n",
    "- For each DC, month, and generation name, count the number of employees \n",
    "- Name the employee count “ee_count”\n",
    "- Rename the generation_name column to “demographic_detail”\n",
    "- Add a new column, demographic_type, which will have the same string in every row, “Generation Name”\n",
    "- Repeat above steps for gender, nationality, age_range, and tenure_years\n",
    "- Union all of the demographic summaries into one dataset"
   ]
  },
  {
   "cell_type": "code",
   "execution_count": null,
   "id": "rapid-trout",
   "metadata": {},
   "outputs": [],
   "source": [
    "# Generation Name - group by three keys and then summarize each group\n",
    "generation_summary_df = monthly_ee_dim_df.groupby(['dc_nbr', 'Month_End_Date', 'generation_name']).size().unstack(fill_value=0).reset_index()\n",
    "generation_summary_df.rename(columns = {'generation_name':'demographic_detail'}, inplace = True)\n",
    "generation_summary_df['demographic_type']='Generation Name' \n",
    "\n",
    "\n",
    "# Gender - group by three keys and then summarize each group\n",
    "gender_summary_df = monthly_ee_dim_df.groupby(['dc_nbr', 'Month_End_Date', 'gender']).size().unstack(fill_value=0).reset_index()\n",
    "gender_summary_df.rename(columns = {'gender':'demographic_detail'}, inplace = True)\n",
    "gender_summary_df['demographic_type']='Gender'         \n",
    "\n",
    "# Nationality - group by three keys and then summarize each group\n",
    "nationality_summary_df = monthly_ee_dim_df.groupby(['dc_nbr', 'Month_End_Date', 'nationality']).size().unstack(fill_value=0).reset_index()\n",
    "nationality_summary_df.rename(columns = {'nationality':'demographic_detail'}, inplace = True)\n",
    "nationality_summary_df['demographic_type']='Nationality' \n",
    "\n",
    "# Tenure Years - group by three keys and then summarize each group\n",
    "Tenure_Years_summary_df = monthly_ee_dim_df.groupby(['dc_nbr', 'Month_End_Date', 'Tenure_Years']).size().unstack(fill_value=0).reset_index()\n",
    "Tenure_Years_summary_df.rename(columns = {'Tenure_Years':'demographic_detail'}, inplace = True)\n",
    "Tenure_Years_summary_df['demographic_type']='Tenure' \n",
    "\n",
    "# Age Range - group by three keys and then summarize each group\n",
    "Age_Range_summary_df = monthly_ee_dim_df.groupby(['dc_nbr', 'Month_End_Date', 'age_range']).size().unstack(fill_value=0).reset_index()\n",
    "Age_Range_summary_df.rename(columns = {'age_range':'demographic_detail'}, inplace = True)\n",
    "Age_Range_summary_df['demographic_type']='Age Range'"
   ]
  },
  {
   "cell_type": "code",
   "execution_count": null,
   "id": "academic-giant",
   "metadata": {},
   "outputs": [],
   "source": [
    "# 1) Preview generation dataframe\n",
    "generation_summary_df"
   ]
  },
  {
   "cell_type": "markdown",
   "id": "opponent-porter",
   "metadata": {},
   "source": [
    "### We need to include the rows that have a zero employee count. Since the dataframe above is excluding those rows, we'll use the Pandas melt() function to change the DataFrame format from wide to long."
   ]
  },
  {
   "cell_type": "code",
   "execution_count": null,
   "id": "prompt-fence",
   "metadata": {},
   "outputs": [],
   "source": [
    "# Melt to combine generation names into a single column\n",
    "Generation_Name = generation_summary_df.melt(id_vars=['dc_nbr', 'Month_End_Date', 'demographic_type'], var_name='generation_name', value_name='employee_count')\n",
    "Generation_Name.rename(columns={'generation_name': 'demographic_detail'}, inplace=True)\n",
    "Generation_Name"
   ]
  },
  {
   "cell_type": "code",
   "execution_count": null,
   "id": "junior-minister",
   "metadata": {},
   "outputs": [],
   "source": [
    "# 2) Preview gender datarame\n",
    "gender_summary_df"
   ]
  },
  {
   "cell_type": "code",
   "execution_count": null,
   "id": "round-adelaide",
   "metadata": {},
   "outputs": [],
   "source": [
    "# 2) Melt to combine genders into a single column\n",
    "Gender = gender_summary_df.melt(id_vars=['dc_nbr', 'Month_End_Date', 'demographic_type'], var_name='gender', value_name='employee_count')\n",
    "Gender.rename(columns={'gender': 'demographic_detail'}, inplace=True)\n",
    "Gender"
   ]
  },
  {
   "cell_type": "code",
   "execution_count": null,
   "id": "worldwide-concept",
   "metadata": {},
   "outputs": [],
   "source": [
    "# 3) Preview nationality dataframe\n",
    "nationality_summary_df"
   ]
  },
  {
   "cell_type": "code",
   "execution_count": null,
   "id": "certain-cabinet",
   "metadata": {},
   "outputs": [],
   "source": [
    "# 3) Melt to combine nationality into a single column\n",
    "Nationality = nationality_summary_df.melt(id_vars=['dc_nbr', 'Month_End_Date', 'demographic_type'], var_name='nationality', value_name='employee_count')\n",
    "Nationality.rename(columns={'nationality': 'demographic_detail'}, inplace=True)\n",
    "Nationality"
   ]
  },
  {
   "cell_type": "code",
   "execution_count": null,
   "id": "established-madagascar",
   "metadata": {},
   "outputs": [],
   "source": [
    "# 4) Preview Tenure Years dataframe\n",
    "Tenure_Years_summary_df"
   ]
  },
  {
   "cell_type": "code",
   "execution_count": null,
   "id": "adequate-basket",
   "metadata": {},
   "outputs": [],
   "source": [
    "# 4) Melt to combine age ranges into a single column\n",
    "Tenure_Years = Tenure_Years_summary_df.melt(id_vars=['dc_nbr', 'Month_End_Date', 'demographic_type'], var_name='Tenure_Years', value_name='employee_count')\n",
    "Tenure_Years.rename(columns={'Tenure_Years': 'demographic_detail'}, inplace=True)\n",
    "Tenure_Years"
   ]
  },
  {
   "cell_type": "code",
   "execution_count": null,
   "id": "included-redhead",
   "metadata": {},
   "outputs": [],
   "source": [
    "# 5) Preview Age Range dataframe\n",
    "Age_Range_summary_df"
   ]
  },
  {
   "cell_type": "code",
   "execution_count": null,
   "id": "authorized-fantasy",
   "metadata": {},
   "outputs": [],
   "source": [
    "# 5) Melt to combine age ranges into a single column\n",
    "Age_Range = Age_Range_summary_df.melt(id_vars=['dc_nbr', 'Month_End_Date', 'demographic_type'], var_name='age_range', value_name='employee_count')\n",
    "Age_Range.rename(columns={'age_range': 'demographic_detail'}, inplace=True)\n",
    "Age_Range"
   ]
  },
  {
   "cell_type": "code",
   "execution_count": null,
   "id": "threaded-virus",
   "metadata": {},
   "outputs": [],
   "source": [
    "# Union the dataframe pivot summaries together\n",
    "combined_summaries = pd.concat([Age_Range, Tenure_Years, Nationality, Gender, Generation_Name ])"
   ]
  },
  {
   "cell_type": "markdown",
   "id": "athletic-hungarian",
   "metadata": {},
   "source": [
    "### Final DataFrame - \n",
    "Note: Uncomment code to export CSV"
   ]
  },
  {
   "cell_type": "code",
   "execution_count": null,
   "id": "frank-elder",
   "metadata": {},
   "outputs": [],
   "source": [
    "# Preview final dataframe\n",
    "combined_summaries\n",
    "\n",
    "# Ucomment code below to export data\n",
    "#combined_summaries.to_csv('combined_summaries4.csv')"
   ]
  },
  {
   "cell_type": "markdown",
   "id": "afraid-mississippi",
   "metadata": {},
   "source": [
    "## Exploring Data Visualization with Python\n",
    "\n",
    "Seaborn Annoted Heatmap Chart:\n",
    "https://seaborn.pydata.org/examples/spreadsheet_heatmap.html"
   ]
  },
  {
   "cell_type": "code",
   "execution_count": null,
   "id": "worth-burton",
   "metadata": {},
   "outputs": [],
   "source": [
    "# import required libraries\n",
    "import seaborn as sns\n",
    "import matplotlib.pyplot as plt\n",
    "import calendar # required to convert the number momths to actual string months"
   ]
  },
  {
   "cell_type": "code",
   "execution_count": null,
   "id": "regulation-timing",
   "metadata": {},
   "outputs": [],
   "source": [
    "# Convert employee_count to integers\n",
    "combined_summaries['employee_count'] = combined_summaries['employee_count'].astype(int)\n",
    "combined_summaries"
   ]
  },
  {
   "cell_type": "code",
   "execution_count": null,
   "id": "indoor-period",
   "metadata": {},
   "outputs": [],
   "source": [
    "# Pivot the dataframe to create a heatmap\n",
    "heatmap_data = combined_summaries.pivot_table(index=combined_summaries['Month_End_Date'].dt.month, \n",
    "                              columns=combined_summaries['Month_End_Date'].dt.year, \n",
    "                              values='employee_count', \n",
    "                              aggfunc='sum').fillna(0).astype(int) # handles NaNs - replace with 0s\n",
    "\n",
    "# Preview heatmap\n",
    "heatmap_data"
   ]
  },
  {
   "cell_type": "code",
   "execution_count": null,
   "id": "varied-mainstream",
   "metadata": {},
   "outputs": [],
   "source": [
    "# Set the heatmap plot size\n",
    "plt.figure(figsize=(12, 8))\n",
    "\n",
    "# Build out a heatmap with the employee counts in each cell\n",
    "sns.set_theme()\n",
    "ax = sns.heatmap(heatmap_data, annot=True, fmt=\"\", linewidths=5, cmap='YlGnBu')\n",
    "\n",
    "# Now, we'll format the month names from numbers to actual names (e.g., 12 => December)\n",
    "month_names = [calendar.month_abbr[i] for i in range(1, 13)]\n",
    "ax.set_yticklabels(month_names, rotation=0)\n",
    "\n",
    "# Increase font size of month labels on both x and y axes\n",
    "ax.set_xticklabels(ax.get_xticklabels(), fontsize=16, rotation=45)\n",
    "ax.set_yticklabels(ax.get_yticklabels(), fontsize=16, rotation=0)\n",
    "\n",
    "# set the y- and x- axis labels, fot size\n",
    "plt.title('Yearly and Monthly Workforce Trends', fontsize=22)\n",
    "plt.xlabel('Year',fontsize=16)\n",
    "plt.ylabel('Month', fontsize=16)\n",
    "\n",
    "# Save the visualizatio as an image; DPI stands for \"Dots per Inch\" for image quality\n",
    "plt.savefig('heatmap_W332023.png', bbox_inches='tight', dpi=800, facecolor='white')\n",
    "\n",
    "# Show the plot!\n",
    "plt.show()"
   ]
  }
 ],
 "metadata": {
  "kernelspec": {
   "display_name": "Python 3",
   "language": "python",
   "name": "python3"
  },
  "language_info": {
   "codemirror_mode": {
    "name": "ipython",
    "version": 3
   },
   "file_extension": ".py",
   "mimetype": "text/x-python",
   "name": "python",
   "nbconvert_exporter": "python",
   "pygments_lexer": "ipython3",
   "version": "3.7.2"
  }
 },
 "nbformat": 4,
 "nbformat_minor": 5
}
